{
 "cells": [
  {
   "cell_type": "code",
   "id": "initial_id",
   "metadata": {
    "collapsed": true,
    "ExecuteTime": {
     "end_time": "2024-07-19T17:47:38.254742Z",
     "start_time": "2024-07-19T17:47:38.251929Z"
    }
   },
   "source": [
    "from pytorchfire import *\n",
    "import torch"
   ],
   "outputs": [],
   "execution_count": 43
  },
  {
   "metadata": {
    "ExecuteTime": {
     "end_time": "2024-07-19T16:07:44.724568Z",
     "start_time": "2024-07-19T16:07:44.713505Z"
    }
   },
   "cell_type": "code",
   "source": "model = WildfireModel()",
   "id": "b4c48e49fa3b1cf6",
   "outputs": [],
   "execution_count": 7
  },
  {
   "metadata": {
    "ExecuteTime": {
     "end_time": "2024-07-19T16:07:44.847383Z",
     "start_time": "2024-07-19T16:07:44.844603Z"
    }
   },
   "cell_type": "code",
   "source": "type(model.a) is torch.nn.Parameter",
   "id": "521c32046bc52219",
   "outputs": [
    {
     "data": {
      "text/plain": [
       "True"
      ]
     },
     "execution_count": 8,
     "metadata": {},
     "output_type": "execute_result"
    }
   ],
   "execution_count": 8
  },
  {
   "metadata": {
    "ExecuteTime": {
     "end_time": "2024-07-19T16:07:51.573102Z",
     "start_time": "2024-07-19T16:07:51.570896Z"
    }
   },
   "cell_type": "code",
   "source": "type(model.a)",
   "id": "5bbb6089fac82478",
   "outputs": [
    {
     "data": {
      "text/plain": [
       "torch.nn.parameter.Parameter"
      ]
     },
     "execution_count": 9,
     "metadata": {},
     "output_type": "execute_result"
    }
   ],
   "execution_count": 9
  },
  {
   "metadata": {
    "ExecuteTime": {
     "end_time": "2024-07-19T16:07:56.338973Z",
     "start_time": "2024-07-19T16:07:56.336149Z"
    }
   },
   "cell_type": "code",
   "source": "torch.nn.parameter.Parameter",
   "id": "a9851237be0bde97",
   "outputs": [
    {
     "data": {
      "text/plain": [
       "torch.nn.parameter.Parameter"
      ]
     },
     "execution_count": 10,
     "metadata": {},
     "output_type": "execute_result"
    }
   ],
   "execution_count": 10
  },
  {
   "metadata": {
    "ExecuteTime": {
     "end_time": "2024-07-19T16:07:58.533045Z",
     "start_time": "2024-07-19T16:07:58.530480Z"
    }
   },
   "cell_type": "code",
   "source": "torch.nn.parameter",
   "id": "5e915ff28d92cb55",
   "outputs": [
    {
     "data": {
      "text/plain": [
       "<module 'torch.nn.parameter' from '/Users/zeyuxia/.miniconda3/envs/wildtorch/lib/python3.11/site-packages/torch/nn/parameter.py'>"
      ]
     },
     "execution_count": 11,
     "metadata": {},
     "output_type": "execute_result"
    }
   ],
   "execution_count": 11
  },
  {
   "metadata": {
    "ExecuteTime": {
     "end_time": "2024-07-19T16:08:03.496291Z",
     "start_time": "2024-07-19T16:08:03.494050Z"
    }
   },
   "cell_type": "code",
   "source": "torch.nn.parameter is torch.nn.parameter.Parameter",
   "id": "f8c479359e193e78",
   "outputs": [
    {
     "data": {
      "text/plain": [
       "False"
      ]
     },
     "execution_count": 12,
     "metadata": {},
     "output_type": "execute_result"
    }
   ],
   "execution_count": 12
  },
  {
   "metadata": {
    "ExecuteTime": {
     "end_time": "2024-07-19T16:08:08.948658Z",
     "start_time": "2024-07-19T16:08:08.946293Z"
    }
   },
   "cell_type": "code",
   "source": "torch.nn.Parameter is torch.nn.parameter.Parameter",
   "id": "247104e8a597c9d4",
   "outputs": [
    {
     "data": {
      "text/plain": [
       "True"
      ]
     },
     "execution_count": 13,
     "metadata": {},
     "output_type": "execute_result"
    }
   ],
   "execution_count": 13
  },
  {
   "metadata": {
    "ExecuteTime": {
     "end_time": "2024-07-19T16:13:39.278702Z",
     "start_time": "2024-07-19T16:13:39.275410Z"
    }
   },
   "cell_type": "code",
   "source": "torch.tensor(0.).shape",
   "id": "fbcc1201b9316e1d",
   "outputs": [
    {
     "data": {
      "text/plain": [
       "torch.Size([])"
      ]
     },
     "execution_count": 15,
     "metadata": {},
     "output_type": "execute_result"
    }
   ],
   "execution_count": 15
  },
  {
   "metadata": {
    "ExecuteTime": {
     "end_time": "2024-07-19T16:33:18.884748Z",
     "start_time": "2024-07-19T16:33:18.882649Z"
    }
   },
   "cell_type": "code",
   "source": "torch.float",
   "id": "a932ab28730c66b1",
   "outputs": [
    {
     "data": {
      "text/plain": [
       "torch.float32"
      ]
     },
     "execution_count": 18,
     "metadata": {},
     "output_type": "execute_result"
    }
   ],
   "execution_count": 18
  },
  {
   "metadata": {
    "ExecuteTime": {
     "end_time": "2024-07-19T16:35:03.448883Z",
     "start_time": "2024-07-19T16:35:03.446379Z"
    }
   },
   "cell_type": "code",
   "source": "model.state.shape",
   "id": "329a2f403709b933",
   "outputs": [
    {
     "data": {
      "text/plain": [
       "torch.Size([2, 500, 500])"
      ]
     },
     "execution_count": 19,
     "metadata": {},
     "output_type": "execute_result"
    }
   ],
   "execution_count": 19
  },
  {
   "metadata": {
    "ExecuteTime": {
     "end_time": "2024-07-19T17:25:28.282587Z",
     "start_time": "2024-07-19T17:25:28.252459Z"
    }
   },
   "cell_type": "code",
   "source": [
    "SIZE = 500\n",
    "environment_data = {\n",
    "    'p_veg': torch.rand(SIZE, SIZE),\n",
    "    'p_den': torch.rand(SIZE, SIZE),\n",
    "    'wind_velocity': torch.rand(SIZE, SIZE) * 10,\n",
    "    'wind_towards_direction': torch.rand(SIZE, SIZE) * 365,\n",
    "    'slope': torch.rand(SIZE, SIZE, 3, 3) * 90,\n",
    "    'initial_ignition': torch.rand(SIZE, SIZE) > .9,\n",
    "}\n",
    "parameters = {\n",
    "    'a': torch.tensor(.1),\n",
    "    'p_h': torch.tensor(.3),\n",
    "    'c_1': torch.tensor(.1),\n",
    "    'c_2': torch.tensor(.1),\n",
    "    'p_continue': torch.tensor(.3),\n",
    "}\n",
    "model = WildfireModel(env_data=environment_data, params=parameters) # Create a model with custom parameters"
   ],
   "id": "e9ed08c7fdcd0b23",
   "outputs": [],
   "execution_count": 22
  },
  {
   "metadata": {},
   "cell_type": "markdown",
   "source": "",
   "id": "b084c6bc177bacaa"
  },
  {
   "metadata": {
    "ExecuteTime": {
     "end_time": "2024-07-19T17:25:46.801587Z",
     "start_time": "2024-07-19T17:25:46.740366Z"
    }
   },
   "cell_type": "code",
   "source": "model.compute()",
   "id": "bfe136bcb9e1df1c",
   "outputs": [],
   "execution_count": 25
  },
  {
   "metadata": {
    "ExecuteTime": {
     "end_time": "2024-07-19T17:25:46.827683Z",
     "start_time": "2024-07-19T17:25:46.822671Z"
    }
   },
   "cell_type": "code",
   "source": "model.state.sum()",
   "id": "d2d9b38cbc4dab5a",
   "outputs": [
    {
     "data": {
      "text/plain": [
       "tensor(231299)"
      ]
     },
     "execution_count": 26,
     "metadata": {},
     "output_type": "execute_result"
    }
   ],
   "execution_count": 26
  },
  {
   "metadata": {
    "ExecuteTime": {
     "end_time": "2024-07-19T17:41:58.767727Z",
     "start_time": "2024-07-19T17:41:58.764757Z"
    }
   },
   "cell_type": "code",
   "source": [
    "altitude = torch.rand(3, 3)\n",
    "cell_size = torch.tensor(1.0)\n",
    "utils.calculate_slope(altitude, cell_size).shape"
   ],
   "id": "24b1e7cd9645f1f",
   "outputs": [
    {
     "data": {
      "text/plain": [
       "torch.Size([3, 3, 3, 3])"
      ]
     },
     "execution_count": 31,
     "metadata": {},
     "output_type": "execute_result"
    }
   ],
   "execution_count": 31
  },
  {
   "metadata": {
    "ExecuteTime": {
     "end_time": "2024-07-19T17:42:09.326842Z",
     "start_time": "2024-07-19T17:42:09.321097Z"
    }
   },
   "cell_type": "code",
   "source": [
    "wind_u = torch.rand(3, 3)\n",
    "wind_v = torch.rand(3, 3)\n",
    "utils.convert_wind_components_to_velocity_and_direction(wind_u, wind_v)"
   ],
   "id": "36cd0b0772041e0e",
   "outputs": [
    {
     "data": {
      "text/plain": [
       "{'wind_velocity': tensor([[0.7219, 0.8073, 1.0905],\n",
       "         [1.0369, 1.2128, 0.8328],\n",
       "         [0.8980, 0.7512, 1.0083]]),\n",
       " 'wind_towards_direction': tensor([[61.1034, 33.8678, 52.5098],\n",
       "         [48.5209, 42.3477, 70.6611],\n",
       "         [17.1968, 50.0775, 51.7144]])}"
      ]
     },
     "execution_count": 32,
     "metadata": {},
     "output_type": "execute_result"
    }
   ],
   "execution_count": 32
  },
  {
   "metadata": {
    "ExecuteTime": {
     "end_time": "2024-07-19T17:47:07.742092Z",
     "start_time": "2024-07-19T17:47:07.739500Z"
    }
   },
   "cell_type": "code",
   "source": "torch.optim",
   "id": "6550e6c90dd0fa75",
   "outputs": [
    {
     "data": {
      "text/plain": [
       "<module 'torch.optim' from '/Users/zeyuxia/.miniconda3/envs/wildtorch/lib/python3.11/site-packages/torch/optim/__init__.py'>"
      ]
     },
     "execution_count": 42,
     "metadata": {},
     "output_type": "execute_result"
    }
   ],
   "execution_count": 42
  },
  {
   "metadata": {
    "ExecuteTime": {
     "end_time": "2024-07-19T17:47:40.643665Z",
     "start_time": "2024-07-19T17:47:40.641156Z"
    }
   },
   "cell_type": "code",
   "source": "torch.optim.Optimizer",
   "id": "9c1cd61bbdf4d75b",
   "outputs": [
    {
     "data": {
      "text/plain": [
       "torch.optim.optimizer.Optimizer"
      ]
     },
     "execution_count": 44,
     "metadata": {},
     "output_type": "execute_result"
    }
   ],
   "execution_count": 44
  },
  {
   "metadata": {
    "ExecuteTime": {
     "end_time": "2024-07-19T18:00:24.382157Z",
     "start_time": "2024-07-19T18:00:18.976431Z"
    }
   },
   "cell_type": "code",
   "source": [
    "import torch\n",
    "\n",
    "model = WildfireModel()\n",
    "model.initial_ignition = torch.rand(SIZE, SIZE) > .9\n",
    "trainer = BaseTrainer(model)\n",
    "\n",
    "trainer.train()\n",
    "trainer.evaluate()"
   ],
   "id": "76b2c26590b69ba8",
   "outputs": [
    {
     "name": "stdout",
     "output_type": "stream",
     "text": [
      "Modify the train method to train your model\n",
      "Epoch [1/10],Iteration 1/30,Epoch Loss: 0.020774483680725098\n",
      "Epoch [1/10],Iteration 2/30,Epoch Loss: 0.04142831166585286\n",
      "Epoch [1/10],Iteration 3/30,Epoch Loss: 0.06196277141571045\n",
      "Epoch [1/10],Iteration 4/30,Epoch Loss: 0.08237765232721965\n",
      "Epoch [1/10],Iteration 5/30,Epoch Loss: 0.10267611742019653\n"
     ]
    },
    {
     "ename": "KeyboardInterrupt",
     "evalue": "",
     "output_type": "error",
     "traceback": [
      "\u001B[0;31m---------------------------------------------------------------------------\u001B[0m",
      "\u001B[0;31mKeyboardInterrupt\u001B[0m                         Traceback (most recent call last)",
      "Cell \u001B[0;32mIn[45], line 7\u001B[0m\n\u001B[1;32m      4\u001B[0m model\u001B[38;5;241m.\u001B[39minitial_ignition \u001B[38;5;241m=\u001B[39m torch\u001B[38;5;241m.\u001B[39mrand(SIZE, SIZE) \u001B[38;5;241m>\u001B[39m \u001B[38;5;241m.9\u001B[39m\n\u001B[1;32m      5\u001B[0m trainer \u001B[38;5;241m=\u001B[39m BaseTrainer(model)\n\u001B[0;32m----> 7\u001B[0m trainer\u001B[38;5;241m.\u001B[39mtrain()\n\u001B[1;32m      8\u001B[0m trainer\u001B[38;5;241m.\u001B[39mevaluate()\n",
      "File \u001B[0;32m~/Desktop/PyTorchFire/pytorchfire/trainer.py:124\u001B[0m, in \u001B[0;36mtrain\u001B[0;34m(self)\u001B[0m\n\u001B[1;32m    122\u001B[0m \u001B[38;5;28;01mif\u001B[39;00m max_steps \u001B[38;5;241m<\u001B[39m\u001B[38;5;241m=\u001B[39m update_steps_first \u001B[38;5;241m+\u001B[39m update_steps_last \u001B[38;5;241m+\u001B[39m update_steps_in_between:\n\u001B[1;32m    123\u001B[0m     \u001B[38;5;28;01mreturn\u001B[39;00m \u001B[38;5;28msorted\u001B[39m(\u001B[38;5;28mrange\u001B[39m(max_steps))\n\u001B[0;32m--> 124\u001B[0m update_steps \u001B[38;5;241m=\u001B[39m \u001B[38;5;28mset\u001B[39m()\n\u001B[1;32m    126\u001B[0m update_steps\u001B[38;5;241m.\u001B[39mupdate(\u001B[38;5;28mrange\u001B[39m(update_steps_first))\n\u001B[1;32m    127\u001B[0m update_steps\u001B[38;5;241m.\u001B[39mupdate(\u001B[38;5;28mrange\u001B[39m(max_steps \u001B[38;5;241m-\u001B[39m update_steps_last, max_steps))\n",
      "File \u001B[0;32m~/Desktop/PyTorchFire/pytorchfire/trainer.py:134\u001B[0m, in \u001B[0;36mbackward\u001B[0;34m(self, loss)\u001B[0m\n\u001B[1;32m    132\u001B[0m interval \u001B[38;5;241m=\u001B[39m steps_in_between \u001B[38;5;241m/\u001B[39m\u001B[38;5;241m/\u001B[39m (update_steps_in_between \u001B[38;5;241m+\u001B[39m \u001B[38;5;241m1\u001B[39m)\n\u001B[1;32m    133\u001B[0m \u001B[38;5;28;01mfor\u001B[39;00m i \u001B[38;5;129;01min\u001B[39;00m \u001B[38;5;28mrange\u001B[39m(\u001B[38;5;241m1\u001B[39m, update_steps_in_between \u001B[38;5;241m+\u001B[39m \u001B[38;5;241m1\u001B[39m):\n\u001B[0;32m--> 134\u001B[0m     update_steps\u001B[38;5;241m.\u001B[39madd(start \u001B[38;5;241m+\u001B[39m i \u001B[38;5;241m*\u001B[39m interval)\n\u001B[1;32m    136\u001B[0m \u001B[38;5;28;01mreturn\u001B[39;00m \u001B[38;5;28msorted\u001B[39m(update_steps)\n",
      "File \u001B[0;32m~/.miniconda3/envs/wildtorch/lib/python3.11/site-packages/torch/_tensor.py:525\u001B[0m, in \u001B[0;36mTensor.backward\u001B[0;34m(self, gradient, retain_graph, create_graph, inputs)\u001B[0m\n\u001B[1;32m    515\u001B[0m \u001B[38;5;28;01mif\u001B[39;00m has_torch_function_unary(\u001B[38;5;28mself\u001B[39m):\n\u001B[1;32m    516\u001B[0m     \u001B[38;5;28;01mreturn\u001B[39;00m handle_torch_function(\n\u001B[1;32m    517\u001B[0m         Tensor\u001B[38;5;241m.\u001B[39mbackward,\n\u001B[1;32m    518\u001B[0m         (\u001B[38;5;28mself\u001B[39m,),\n\u001B[0;32m   (...)\u001B[0m\n\u001B[1;32m    523\u001B[0m         inputs\u001B[38;5;241m=\u001B[39minputs,\n\u001B[1;32m    524\u001B[0m     )\n\u001B[0;32m--> 525\u001B[0m torch\u001B[38;5;241m.\u001B[39mautograd\u001B[38;5;241m.\u001B[39mbackward(\n\u001B[1;32m    526\u001B[0m     \u001B[38;5;28mself\u001B[39m, gradient, retain_graph, create_graph, inputs\u001B[38;5;241m=\u001B[39minputs\n\u001B[1;32m    527\u001B[0m )\n",
      "File \u001B[0;32m~/.miniconda3/envs/wildtorch/lib/python3.11/site-packages/torch/autograd/__init__.py:267\u001B[0m, in \u001B[0;36mbackward\u001B[0;34m(tensors, grad_tensors, retain_graph, create_graph, grad_variables, inputs)\u001B[0m\n\u001B[1;32m    262\u001B[0m     retain_graph \u001B[38;5;241m=\u001B[39m create_graph\n\u001B[1;32m    264\u001B[0m \u001B[38;5;66;03m# The reason we repeat the same comment below is that\u001B[39;00m\n\u001B[1;32m    265\u001B[0m \u001B[38;5;66;03m# some Python versions print out the first line of a multi-line function\u001B[39;00m\n\u001B[1;32m    266\u001B[0m \u001B[38;5;66;03m# calls in the traceback and some print out the last line\u001B[39;00m\n\u001B[0;32m--> 267\u001B[0m _engine_run_backward(\n\u001B[1;32m    268\u001B[0m     tensors,\n\u001B[1;32m    269\u001B[0m     grad_tensors_,\n\u001B[1;32m    270\u001B[0m     retain_graph,\n\u001B[1;32m    271\u001B[0m     create_graph,\n\u001B[1;32m    272\u001B[0m     inputs,\n\u001B[1;32m    273\u001B[0m     allow_unreachable\u001B[38;5;241m=\u001B[39m\u001B[38;5;28;01mTrue\u001B[39;00m,\n\u001B[1;32m    274\u001B[0m     accumulate_grad\u001B[38;5;241m=\u001B[39m\u001B[38;5;28;01mTrue\u001B[39;00m,\n\u001B[1;32m    275\u001B[0m )\n",
      "File \u001B[0;32m~/.miniconda3/envs/wildtorch/lib/python3.11/site-packages/torch/autograd/graph.py:744\u001B[0m, in \u001B[0;36m_engine_run_backward\u001B[0;34m(t_outputs, *args, **kwargs)\u001B[0m\n\u001B[1;32m    742\u001B[0m     unregister_hooks \u001B[38;5;241m=\u001B[39m _register_logging_hooks_on_whole_graph(t_outputs)\n\u001B[1;32m    743\u001B[0m \u001B[38;5;28;01mtry\u001B[39;00m:\n\u001B[0;32m--> 744\u001B[0m     \u001B[38;5;28;01mreturn\u001B[39;00m Variable\u001B[38;5;241m.\u001B[39m_execution_engine\u001B[38;5;241m.\u001B[39mrun_backward(  \u001B[38;5;66;03m# Calls into the C++ engine to run the backward pass\u001B[39;00m\n\u001B[1;32m    745\u001B[0m         t_outputs, \u001B[38;5;241m*\u001B[39margs, \u001B[38;5;241m*\u001B[39m\u001B[38;5;241m*\u001B[39mkwargs\n\u001B[1;32m    746\u001B[0m     )  \u001B[38;5;66;03m# Calls into the C++ engine to run the backward pass\u001B[39;00m\n\u001B[1;32m    747\u001B[0m \u001B[38;5;28;01mfinally\u001B[39;00m:\n\u001B[1;32m    748\u001B[0m     \u001B[38;5;28;01mif\u001B[39;00m attach_logging_hooks:\n",
      "\u001B[0;31mKeyboardInterrupt\u001B[0m: "
     ]
    }
   ],
   "execution_count": 45
  },
  {
   "metadata": {
    "ExecuteTime": {
     "end_time": "2024-07-19T18:00:30.612231Z",
     "start_time": "2024-07-19T18:00:25.862923Z"
    }
   },
   "cell_type": "code",
   "source": "trainer.evaluate()",
   "id": "db1ddca2eeab6d67",
   "outputs": [
    {
     "name": "stdout",
     "output_type": "stream",
     "text": [
      "Modify the evaluate method to evaluate your model\n",
      "Step [1/300]\n",
      "Step [2/300]\n",
      "Step [3/300]\n",
      "Step [4/300]\n",
      "Step [5/300]\n",
      "Step [6/300]\n",
      "Step [7/300]\n",
      "Step [8/300]\n",
      "Step [9/300]\n",
      "Step [10/300]\n",
      "Step [11/300]\n",
      "Step [12/300]\n",
      "Step [13/300]\n",
      "Step [14/300]\n",
      "Step [15/300]\n",
      "Step [16/300]\n",
      "Step [17/300]\n",
      "Step [18/300]\n",
      "Step [19/300]\n",
      "Step [20/300]\n",
      "Step [21/300]\n",
      "Step [22/300]\n",
      "Step [23/300]\n",
      "Step [24/300]\n",
      "Step [25/300]\n",
      "Step [26/300]\n",
      "Step [27/300]\n",
      "Step [28/300]\n",
      "Step [29/300]\n",
      "Step [30/300]\n",
      "Step [31/300]\n",
      "Step [32/300]\n",
      "Step [33/300]\n",
      "Step [34/300]\n",
      "Step [35/300]\n",
      "Step [36/300]\n",
      "Step [37/300]\n",
      "Step [38/300]\n",
      "Step [39/300]\n",
      "Step [40/300]\n",
      "Step [41/300]\n",
      "Step [42/300]\n",
      "Step [43/300]\n",
      "Step [44/300]\n",
      "Step [45/300]\n",
      "Step [46/300]\n",
      "Step [47/300]\n",
      "Step [48/300]\n",
      "Step [49/300]\n",
      "Step [50/300]\n",
      "Step [51/300]\n",
      "Step [52/300]\n",
      "Step [53/300]\n",
      "Step [54/300]\n",
      "Step [55/300]\n",
      "Step [56/300]\n",
      "Step [57/300]\n",
      "Step [58/300]\n",
      "Step [59/300]\n",
      "Step [60/300]\n",
      "Step [61/300]\n",
      "Step [62/300]\n",
      "Step [63/300]\n",
      "Step [64/300]\n",
      "Step [65/300]\n",
      "Step [66/300]\n",
      "Step [67/300]\n",
      "Step [68/300]\n",
      "Step [69/300]\n",
      "Step [70/300]\n",
      "Step [71/300]\n",
      "Step [72/300]\n",
      "Step [73/300]\n",
      "Step [74/300]\n",
      "Step [75/300]\n",
      "Step [76/300]\n",
      "Step [77/300]\n",
      "Step [78/300]\n",
      "Step [79/300]\n",
      "Step [80/300]\n",
      "Step [81/300]\n",
      "Step [82/300]\n",
      "Step [83/300]\n",
      "Step [84/300]\n",
      "Step [85/300]\n",
      "Step [86/300]\n",
      "Step [87/300]\n",
      "Step [88/300]\n",
      "Step [89/300]\n",
      "Step [90/300]\n",
      "Step [91/300]\n",
      "Step [92/300]\n",
      "Step [93/300]\n",
      "Step [94/300]\n",
      "Step [95/300]\n",
      "Step [96/300]\n",
      "Step [97/300]\n",
      "Step [98/300]\n",
      "Step [99/300]\n",
      "Step [100/300]\n",
      "Step [101/300]\n",
      "Step [102/300]\n",
      "Step [103/300]\n",
      "Step [104/300]\n",
      "Step [105/300]\n",
      "Step [106/300]\n",
      "Step [107/300]\n",
      "Step [108/300]\n",
      "Step [109/300]\n",
      "Step [110/300]\n",
      "Step [111/300]\n",
      "Step [112/300]\n",
      "Step [113/300]\n",
      "Step [114/300]\n",
      "Step [115/300]\n",
      "Step [116/300]\n",
      "Step [117/300]\n",
      "Step [118/300]\n",
      "Step [119/300]\n",
      "Step [120/300]\n",
      "Step [121/300]\n",
      "Step [122/300]\n",
      "Step [123/300]\n",
      "Step [124/300]\n",
      "Step [125/300]\n",
      "Step [126/300]\n",
      "Step [127/300]\n",
      "Step [128/300]\n",
      "Step [129/300]\n",
      "Step [130/300]\n",
      "Step [131/300]\n",
      "Step [132/300]\n",
      "Step [133/300]\n",
      "Step [134/300]\n",
      "Step [135/300]\n",
      "Step [136/300]\n",
      "Step [137/300]\n",
      "Step [138/300]\n",
      "Step [139/300]\n",
      "Step [140/300]\n",
      "Step [141/300]\n",
      "Step [142/300]\n",
      "Step [143/300]\n",
      "Step [144/300]\n",
      "Step [145/300]\n",
      "Step [146/300]\n",
      "Step [147/300]\n",
      "Step [148/300]\n",
      "Step [149/300]\n",
      "Step [150/300]\n",
      "Step [151/300]\n",
      "Step [152/300]\n",
      "Step [153/300]\n",
      "Step [154/300]\n",
      "Step [155/300]\n",
      "Step [156/300]\n",
      "Step [157/300]\n",
      "Step [158/300]\n",
      "Step [159/300]\n",
      "Step [160/300]\n",
      "Step [161/300]\n",
      "Step [162/300]\n",
      "Step [163/300]\n",
      "Step [164/300]\n",
      "Step [165/300]\n",
      "Step [166/300]\n",
      "Step [167/300]\n",
      "Step [168/300]\n",
      "Step [169/300]\n",
      "Step [170/300]\n",
      "Step [171/300]\n",
      "Step [172/300]\n",
      "Step [173/300]\n",
      "Step [174/300]\n",
      "Step [175/300]\n",
      "Step [176/300]\n",
      "Step [177/300]\n",
      "Step [178/300]\n",
      "Step [179/300]\n",
      "Step [180/300]\n",
      "Step [181/300]\n",
      "Step [182/300]\n",
      "Step [183/300]\n",
      "Step [184/300]\n",
      "Step [185/300]\n",
      "Step [186/300]\n",
      "Step [187/300]\n",
      "Step [188/300]\n",
      "Step [189/300]\n",
      "Step [190/300]\n",
      "Step [191/300]\n",
      "Step [192/300]\n",
      "Step [193/300]\n",
      "Step [194/300]\n",
      "Step [195/300]\n",
      "Step [196/300]\n",
      "Step [197/300]\n",
      "Step [198/300]\n",
      "Step [199/300]\n",
      "Step [200/300]\n",
      "Step [201/300]\n",
      "Step [202/300]\n",
      "Step [203/300]\n",
      "Step [204/300]\n",
      "Step [205/300]\n",
      "Step [206/300]\n",
      "Step [207/300]\n",
      "Step [208/300]\n",
      "Step [209/300]\n",
      "Step [210/300]\n",
      "Step [211/300]\n",
      "Step [212/300]\n",
      "Step [213/300]\n",
      "Step [214/300]\n",
      "Step [215/300]\n",
      "Step [216/300]\n",
      "Step [217/300]\n",
      "Step [218/300]\n",
      "Step [219/300]\n",
      "Step [220/300]\n",
      "Step [221/300]\n",
      "Step [222/300]\n",
      "Step [223/300]\n",
      "Step [224/300]\n",
      "Step [225/300]\n",
      "Step [226/300]\n",
      "Step [227/300]\n",
      "Step [228/300]\n",
      "Step [229/300]\n",
      "Step [230/300]\n",
      "Step [231/300]\n",
      "Step [232/300]\n",
      "Step [233/300]\n",
      "Step [234/300]\n",
      "Step [235/300]\n",
      "Step [236/300]\n",
      "Step [237/300]\n",
      "Step [238/300]\n",
      "Step [239/300]\n",
      "Step [240/300]\n",
      "Step [241/300]\n",
      "Step [242/300]\n",
      "Step [243/300]\n",
      "Step [244/300]\n",
      "Step [245/300]\n",
      "Step [246/300]\n",
      "Step [247/300]\n",
      "Step [248/300]\n",
      "Step [249/300]\n",
      "Step [250/300]\n",
      "Step [251/300]\n",
      "Step [252/300]\n",
      "Step [253/300]\n",
      "Step [254/300]\n",
      "Step [255/300]\n",
      "Step [256/300]\n",
      "Step [257/300]\n",
      "Step [258/300]\n",
      "Step [259/300]\n",
      "Step [260/300]\n",
      "Step [261/300]\n",
      "Step [262/300]\n",
      "Step [263/300]\n",
      "Step [264/300]\n",
      "Step [265/300]\n",
      "Step [266/300]\n",
      "Step [267/300]\n",
      "Step [268/300]\n",
      "Step [269/300]\n",
      "Step [270/300]\n",
      "Step [271/300]\n",
      "Step [272/300]\n",
      "Step [273/300]\n",
      "Step [274/300]\n",
      "Step [275/300]\n",
      "Step [276/300]\n",
      "Step [277/300]\n",
      "Step [278/300]\n",
      "Step [279/300]\n",
      "Step [280/300]\n",
      "Step [281/300]\n",
      "Step [282/300]\n",
      "Step [283/300]\n",
      "Step [284/300]\n",
      "Step [285/300]\n",
      "Step [286/300]\n",
      "Step [287/300]\n",
      "Step [288/300]\n",
      "Step [289/300]\n",
      "Step [290/300]\n",
      "Step [291/300]\n",
      "Step [292/300]\n",
      "Step [293/300]\n",
      "Step [294/300]\n",
      "Step [295/300]\n",
      "Step [296/300]\n",
      "Step [297/300]\n",
      "Step [298/300]\n",
      "Step [299/300]\n",
      "Step [300/300]\n"
     ]
    }
   ],
   "execution_count": 46
  },
  {
   "metadata": {},
   "cell_type": "code",
   "outputs": [],
   "execution_count": null,
   "source": "",
   "id": "c2e970813bfedf11"
  }
 ],
 "metadata": {
  "kernelspec": {
   "display_name": "Python 3",
   "language": "python",
   "name": "python3"
  },
  "language_info": {
   "codemirror_mode": {
    "name": "ipython",
    "version": 2
   },
   "file_extension": ".py",
   "mimetype": "text/x-python",
   "name": "python",
   "nbconvert_exporter": "python",
   "pygments_lexer": "ipython2",
   "version": "2.7.6"
  }
 },
 "nbformat": 4,
 "nbformat_minor": 5
}
