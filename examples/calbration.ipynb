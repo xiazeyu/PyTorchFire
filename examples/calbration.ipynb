{
 "cells": [
  {
   "cell_type": "code",
   "execution_count": 1,
   "metadata": {},
   "outputs": [
    {
     "name": "stdout",
     "output_type": "stream",
     "text": [
      "Requirement already satisfied: pytorchfire[examples] in /Users/zeyuxia/.miniforge3/envs/pytorchfire/lib/python3.12/site-packages (1.0.0.post1)\n",
      "Requirement already satisfied: einops~=0.8.0 in /Users/zeyuxia/.miniforge3/envs/pytorchfire/lib/python3.12/site-packages (from pytorchfire[examples]) (0.8.0)\n",
      "Requirement already satisfied: numpy in /Users/zeyuxia/.miniforge3/envs/pytorchfire/lib/python3.12/site-packages (from pytorchfire[examples]) (2.2.2)\n",
      "Requirement already satisfied: torch~=2.3.1 in /Users/zeyuxia/.miniforge3/envs/pytorchfire/lib/python3.12/site-packages (from pytorchfire[examples]) (2.3.1)\n",
      "Requirement already satisfied: h5py in /Users/zeyuxia/.miniforge3/envs/pytorchfire/lib/python3.12/site-packages (from pytorchfire[examples]) (3.12.1)\n",
      "Requirement already satisfied: mpi4py in /Users/zeyuxia/.miniforge3/envs/pytorchfire/lib/python3.12/site-packages (from pytorchfire[examples]) (4.0.1)\n",
      "Requirement already satisfied: tensorboard in /Users/zeyuxia/.miniforge3/envs/pytorchfire/lib/python3.12/site-packages (from pytorchfire[examples]) (2.18.0)\n",
      "Requirement already satisfied: tqdm in /Users/zeyuxia/.miniforge3/envs/pytorchfire/lib/python3.12/site-packages (from pytorchfire[examples]) (4.67.1)\n",
      "Requirement already satisfied: filelock in /Users/zeyuxia/.miniforge3/envs/pytorchfire/lib/python3.12/site-packages (from torch~=2.3.1->pytorchfire[examples]) (3.17.0)\n",
      "Requirement already satisfied: typing-extensions>=4.8.0 in /Users/zeyuxia/.miniforge3/envs/pytorchfire/lib/python3.12/site-packages (from torch~=2.3.1->pytorchfire[examples]) (4.12.2)\n",
      "Requirement already satisfied: sympy in /Users/zeyuxia/.miniforge3/envs/pytorchfire/lib/python3.12/site-packages (from torch~=2.3.1->pytorchfire[examples]) (1.13.3)\n",
      "Requirement already satisfied: networkx in /Users/zeyuxia/.miniforge3/envs/pytorchfire/lib/python3.12/site-packages (from torch~=2.3.1->pytorchfire[examples]) (3.4.2)\n",
      "Requirement already satisfied: jinja2 in /Users/zeyuxia/.miniforge3/envs/pytorchfire/lib/python3.12/site-packages (from torch~=2.3.1->pytorchfire[examples]) (3.1.5)\n",
      "Requirement already satisfied: fsspec in /Users/zeyuxia/.miniforge3/envs/pytorchfire/lib/python3.12/site-packages (from torch~=2.3.1->pytorchfire[examples]) (2024.12.0)\n",
      "Requirement already satisfied: absl-py>=0.4 in /Users/zeyuxia/.miniforge3/envs/pytorchfire/lib/python3.12/site-packages (from tensorboard->pytorchfire[examples]) (2.1.0)\n",
      "Requirement already satisfied: grpcio>=1.48.2 in /Users/zeyuxia/.miniforge3/envs/pytorchfire/lib/python3.12/site-packages (from tensorboard->pytorchfire[examples]) (1.70.0)\n",
      "Requirement already satisfied: markdown>=2.6.8 in /Users/zeyuxia/.miniforge3/envs/pytorchfire/lib/python3.12/site-packages (from tensorboard->pytorchfire[examples]) (3.7)\n",
      "Requirement already satisfied: packaging in /Users/zeyuxia/.miniforge3/envs/pytorchfire/lib/python3.12/site-packages (from tensorboard->pytorchfire[examples]) (24.2)\n",
      "Requirement already satisfied: protobuf!=4.24.0,>=3.19.6 in /Users/zeyuxia/.miniforge3/envs/pytorchfire/lib/python3.12/site-packages (from tensorboard->pytorchfire[examples]) (5.29.3)\n",
      "Requirement already satisfied: setuptools>=41.0.0 in /Users/zeyuxia/.miniforge3/envs/pytorchfire/lib/python3.12/site-packages (from tensorboard->pytorchfire[examples]) (75.8.0)\n",
      "Requirement already satisfied: six>1.9 in /Users/zeyuxia/.miniforge3/envs/pytorchfire/lib/python3.12/site-packages (from tensorboard->pytorchfire[examples]) (1.17.0)\n",
      "Requirement already satisfied: tensorboard-data-server<0.8.0,>=0.7.0 in /Users/zeyuxia/.miniforge3/envs/pytorchfire/lib/python3.12/site-packages (from tensorboard->pytorchfire[examples]) (0.7.2)\n",
      "Requirement already satisfied: werkzeug>=1.0.1 in /Users/zeyuxia/.miniforge3/envs/pytorchfire/lib/python3.12/site-packages (from tensorboard->pytorchfire[examples]) (3.1.3)\n",
      "Requirement already satisfied: MarkupSafe>=2.1.1 in /Users/zeyuxia/.miniforge3/envs/pytorchfire/lib/python3.12/site-packages (from werkzeug>=1.0.1->tensorboard->pytorchfire[examples]) (3.0.2)\n",
      "Requirement already satisfied: mpmath<1.4,>=1.1.0 in /Users/zeyuxia/.miniforge3/envs/pytorchfire/lib/python3.12/site-packages (from sympy->torch~=2.3.1->pytorchfire[examples]) (1.3.0)\n",
      "Note: you may need to restart the kernel to use updated packages.\n",
      "Requirement already satisfied: requests in /Users/zeyuxia/.miniforge3/envs/pytorchfire/lib/python3.12/site-packages (2.32.3)\n",
      "Requirement already satisfied: charset-normalizer<4,>=2 in /Users/zeyuxia/.miniforge3/envs/pytorchfire/lib/python3.12/site-packages (from requests) (3.4.1)\n",
      "Requirement already satisfied: idna<4,>=2.5 in /Users/zeyuxia/.miniforge3/envs/pytorchfire/lib/python3.12/site-packages (from requests) (3.10)\n",
      "Requirement already satisfied: urllib3<3,>=1.21.1 in /Users/zeyuxia/.miniforge3/envs/pytorchfire/lib/python3.12/site-packages (from requests) (2.3.0)\n",
      "Requirement already satisfied: certifi>=2017.4.17 in /Users/zeyuxia/.miniforge3/envs/pytorchfire/lib/python3.12/site-packages (from requests) (2024.12.14)\n",
      "Note: you may need to restart the kernel to use updated packages.\n",
      "Requirement already satisfied: matplotlib in /Users/zeyuxia/.miniforge3/envs/pytorchfire/lib/python3.12/site-packages (3.10.0)\n",
      "Requirement already satisfied: contourpy>=1.0.1 in /Users/zeyuxia/.miniforge3/envs/pytorchfire/lib/python3.12/site-packages (from matplotlib) (1.3.1)\n",
      "Requirement already satisfied: cycler>=0.10 in /Users/zeyuxia/.miniforge3/envs/pytorchfire/lib/python3.12/site-packages (from matplotlib) (0.12.1)\n",
      "Requirement already satisfied: fonttools>=4.22.0 in /Users/zeyuxia/.miniforge3/envs/pytorchfire/lib/python3.12/site-packages (from matplotlib) (4.55.5)\n",
      "Requirement already satisfied: kiwisolver>=1.3.1 in /Users/zeyuxia/.miniforge3/envs/pytorchfire/lib/python3.12/site-packages (from matplotlib) (1.4.8)\n",
      "Requirement already satisfied: numpy>=1.23 in /Users/zeyuxia/.miniforge3/envs/pytorchfire/lib/python3.12/site-packages (from matplotlib) (2.2.2)\n",
      "Requirement already satisfied: packaging>=20.0 in /Users/zeyuxia/.miniforge3/envs/pytorchfire/lib/python3.12/site-packages (from matplotlib) (24.2)\n",
      "Requirement already satisfied: pillow>=8 in /Users/zeyuxia/.miniforge3/envs/pytorchfire/lib/python3.12/site-packages (from matplotlib) (11.1.0)\n",
      "Requirement already satisfied: pyparsing>=2.3.1 in /Users/zeyuxia/.miniforge3/envs/pytorchfire/lib/python3.12/site-packages (from matplotlib) (3.2.1)\n",
      "Requirement already satisfied: python-dateutil>=2.7 in /Users/zeyuxia/.miniforge3/envs/pytorchfire/lib/python3.12/site-packages (from matplotlib) (2.9.0.post0)\n",
      "Requirement already satisfied: six>=1.5 in /Users/zeyuxia/.miniforge3/envs/pytorchfire/lib/python3.12/site-packages (from python-dateutil>=2.7->matplotlib) (1.17.0)\n",
      "Note: you may need to restart the kernel to use updated packages.\n"
     ]
    }
   ],
   "source": [
    "# install pytorchfire and dependencies\n",
    "\n",
    "%pip install 'pytorchfire[examples]'\n",
    "%pip install requests\n",
    "%pip install matplotlib"
   ]
  },
  {
   "cell_type": "code",
   "execution_count": 2,
   "metadata": {},
   "outputs": [
    {
     "name": "stdout",
     "output_type": "stream",
     "text": [
      "Dataset downloaded and saved as Bear_2020.npz\n"
     ]
    }
   ],
   "source": [
    "# download the dataset\n",
    "\n",
    "map_name = 'Bear_2020'\n",
    "\n",
    "import requests\n",
    "\n",
    "def download_file(url, filename):\n",
    "    response = requests.get(url, stream=True)\n",
    "    response.raise_for_status()\n",
    "    \n",
    "    with open(filename, 'wb') as file:\n",
    "        for chunk in response.iter_content(chunk_size=8192):\n",
    "            file.write(chunk)\n",
    "\n",
    "file_url = f'https://github.com/xiazeyu/PyTorchFire/raw/refs/heads/jupyter-examples/examples/{map_name}.npz'\n",
    "filename = f'{map_name}.npz'\n",
    "download_file(file_url, filename)\n",
    "\n",
    "print(f\"Dataset downloaded and saved as {filename}\")\n"
   ]
  },
  {
   "cell_type": "code",
   "execution_count": 5,
   "metadata": {},
   "outputs": [
    {
     "name": "stdout",
     "output_type": "stream",
     "text": [
      "Dataset keys: ['a', 'c_1', 'c_2', 'max_steps', 'p_continue', 'p_h', 'wind_step_interval', 'initial_ignition', 'p_den', 'p_veg', 'slope', 'wind_towards_direction', 'wind_velocity', 'target']\n"
     ]
    }
   ],
   "source": [
    "# load the dataset\n",
    "import numpy as np\n",
    "\n",
    "ds = np.load('Bear_2020.npz')\n",
    "\n",
    "print('Dataset keys:', ds.files)\n",
    "\n",
    "p_veg = ds['p_veg']\n",
    "p_den = ds['p_den']\n",
    "wind_towards_direction = ds['wind_towards_direction']\n",
    "wind_velocity = ds['wind_velocity']\n",
    "slope = ds['slope']\n",
    "initial_ignition = ds['initial_ignition']\n",
    "\n",
    "a = ds['a']\n",
    "p_h = ds['p_h']\n",
    "p_continue = ds['p_continue']\n",
    "c_1 = ds['c_1']\n",
    "c_2 = ds['c_2']\n",
    "\n",
    "wind_step_interval = ds['wind_step_interval']\n",
    "max_steps = ds['max_steps']\n",
    "\n",
    "target = ds['target']\n"
   ]
  },
  {
   "cell_type": "code",
   "execution_count": null,
   "metadata": {},
   "outputs": [],
   "source": [
    "# perform parameter calibration\n",
    "\n",
    "from pytorchfire import WildfireModel, utils\n",
    "from tqdm import tqdm\n",
    "import torch\n",
    "\n",
    "device = 'cuda' if torch.cuda.is_available() else 'cpu'\n",
    "\n",
    "print(f\"Using device: {device}\")\n",
    "\n",
    "model = WildfireModel({\n",
    "        'p_veg': torch.tensor(p_veg),\n",
    "        'p_den': torch.tensor(p_den),\n",
    "        'wind_towards_direction': torch.tensor(wind_towards_direction[0]),\n",
    "        'wind_velocity': torch.tensor(wind_velocity[0]),\n",
    "        'slope': torch.tensor(slope),\n",
    "        'initial_ignition': torch.tensor(initial_ignition, dtype=torch.bool)\n",
    "    }, {\n",
    "        'a': torch.tensor(a),\n",
    "        'p_h': torch.tensor(p_h),\n",
    "        'p_continue': torch.tensor(p_continue),\n",
    "        'c_1': torch.tensor(c_1),\n",
    "        'c_2': torch.tensor(c_2),\n",
    "    })\n",
    "\n",
    "model.to(device)\n",
    "model.eval()\n",
    "\n",
    "affected_cell_count_outputs = []\n",
    "affected_cell_count_targets = []\n",
    "\n",
    "postfix = {}\n",
    "output_list = []\n",
    "\n",
    "with tqdm(total=max_steps) as progress_bar:\n",
    "        with torch.no_grad():\n",
    "            for steps in range(max_steps):\n",
    "                postfix['steps'] = f'{steps + 1}/{max_steps}'\n",
    "\n",
    "                if steps % wind_step_interval == 0:\n",
    "                    model.wind_towards_direction = torch.tensor(\n",
    "                        wind_towards_direction[steps // wind_step_interval], device=device)\n",
    "                    model.wind_velocity = torch.tensor(wind_velocity[steps // wind_step_interval],\n",
    "                                                            device=device)\n",
    "\n",
    "                model.compute()\n",
    "                outputs = model.state[0] | model.state[1]\n",
    "\n",
    "                postfix['burning'] = model.state[0].sum().detach().cpu().item()\n",
    "                postfix['burned'] = model.state[1].sum().detach().cpu().item()\n",
    "\n",
    "                output_list.append(outputs.cpu().detach().numpy())\n",
    "\n",
    "                progress_bar.set_postfix(postfix)\n",
    "                progress_bar.update(1)\n"
   ]
  }
 ],
 "metadata": {
  "kernelspec": {
   "display_name": "pytorchfire",
   "language": "python",
   "name": "python3"
  },
  "language_info": {
   "codemirror_mode": {
    "name": "ipython",
    "version": 3
   },
   "file_extension": ".py",
   "mimetype": "text/x-python",
   "name": "python",
   "nbconvert_exporter": "python",
   "pygments_lexer": "ipython3",
   "version": "3.12.8"
  }
 },
 "nbformat": 4,
 "nbformat_minor": 2
}
