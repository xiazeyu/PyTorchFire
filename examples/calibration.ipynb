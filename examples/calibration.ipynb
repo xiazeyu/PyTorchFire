{
  "cells": [
    {
      "cell_type": "markdown",
      "metadata": {
        "id": "view-in-github",
        "colab_type": "text"
      },
      "source": [
        "<a href=\"https://colab.research.google.com/github/xiazeyu/PyTorchFire/blob/jupyter-examples/examples/calibration.ipynb\" target=\"_parent\"><img src=\"https://colab.research.google.com/assets/colab-badge.svg\" alt=\"Open In Colab\"/></a>"
      ]
    },
    {
      "cell_type": "code",
      "execution_count": null,
      "metadata": {
        "id": "3DONEMa2w__K"
      },
      "outputs": [],
      "source": [
        "# install pytorchfire and dependencies\n",
        "\n",
        "%pip install 'pytorchfire[examples]'\n",
        "%pip install requests\n",
        "%pip install matplotlib"
      ]
    },
    {
      "cell_type": "code",
      "execution_count": null,
      "metadata": {
        "id": "1V5Nkc9Xw__L"
      },
      "outputs": [],
      "source": [
        "# download the dataset\n",
        "\n",
        "map_name = 'Bear_2020'\n",
        "\n",
        "import requests\n",
        "\n",
        "def download_file(url, filename):\n",
        "    response = requests.get(url, stream=True)\n",
        "    response.raise_for_status()\n",
        "\n",
        "    with open(filename, 'wb') as file:\n",
        "        for chunk in response.iter_content(chunk_size=8192):\n",
        "            file.write(chunk)\n",
        "\n",
        "file_url = f'https://github.com/xiazeyu/PyTorchFire/raw/refs/heads/jupyter-examples/examples/{map_name}.npz'\n",
        "filename = f'{map_name}.npz'\n",
        "download_file(file_url, filename)\n",
        "\n",
        "print(f\"Dataset downloaded and saved as {filename}\")\n"
      ]
    },
    {
      "cell_type": "code",
      "execution_count": null,
      "metadata": {
        "id": "h5WQVVOBw__L"
      },
      "outputs": [],
      "source": [
        "# load the dataset\n",
        "import numpy as np\n",
        "\n",
        "ds = np.load('Bear_2020.npz')\n",
        "\n",
        "print('Dataset keys:', ds.files)"
      ]
    },
    {
      "cell_type": "code",
      "execution_count": null,
      "metadata": {
        "id": "yzCMB_56w__M"
      },
      "outputs": [],
      "source": [
        "# define Trainer class (~DataLoader)\n",
        "\n",
        "from pytorchfire import WildfireModel, BaseTrainer\n",
        "from tqdm import tqdm\n",
        "import torch\n",
        "\n",
        "class DemoTrainer(BaseTrainer):\n",
        "    def train(self, ds):\n",
        "        wind_step_interval = ds['wind_step_interval']\n",
        "\n",
        "        self.reset()\n",
        "        self.model.to(self.device)\n",
        "        self.model.train()\n",
        "\n",
        "        max_iterations = self.max_steps // self.steps_update_interval\n",
        "\n",
        "        postfix = {}\n",
        "        with tqdm() as progress_bar:\n",
        "            for epochs in range(self.max_epochs):\n",
        "                postfix['epoch'] = f'{epochs + 1}/{self.max_epochs}'\n",
        "                self.model.reset()\n",
        "                batch_seed = self.model.seed\n",
        "\n",
        "                for iterations in range(max_iterations):\n",
        "                    postfix['iteration'] = f'{iterations + 1}/{max_iterations}'\n",
        "                    iter_max_steps = min(self.max_steps, (iterations + 1) * self.steps_update_interval)\n",
        "                    progress_bar.reset(total=iter_max_steps)\n",
        "\n",
        "                    for steps in range(iter_max_steps):\n",
        "                        postfix['step'] = f'{steps + 1}/{iter_max_steps}'\n",
        "\n",
        "                        if steps % wind_step_interval == 0:\n",
        "                            self.model.wind_towards_direction = torch.tensor(\n",
        "                                ds['wind_towards_direction'][steps // wind_step_interval], device=self.device)\n",
        "                            self.model.wind_velocity = torch.tensor(ds['wind_velocity'][steps // wind_step_interval],\n",
        "                                                                    device=self.device)\n",
        "\n",
        "                        self.model.compute(attach=self.check_if_attach(steps, iter_max_steps))\n",
        "\n",
        "                        progress_bar.set_postfix(postfix)\n",
        "                        progress_bar.update(1)\n",
        "\n",
        "                    outputs = self.model.accumulator\n",
        "                    targets = ds['target'][iter_max_steps - 1]\n",
        "                    targets = torch.tensor(targets, device=self.device)\n",
        "\n",
        "                    loss = self.criterion(outputs, targets)\n",
        "                    postfix['loss'] = f'{loss.item():.4f}'\n",
        "\n",
        "                    self.backward(loss)\n",
        "                    self.model.reset(seed=batch_seed)\n",
        "\n",
        "    def evaluate(self, ds):\n",
        "\n",
        "        wind_step_interval = ds['wind_step_interval']\n",
        "\n",
        "        self.reset()\n",
        "        self.model.to(self.device)\n",
        "        self.model.eval()\n",
        "\n",
        "        affected_cell_count_outputs = []\n",
        "        affected_cell_count_targets = []\n",
        "\n",
        "        postfix = {}\n",
        "        output_list = []\n",
        "\n",
        "        with tqdm(total=self.max_steps) as progress_bar:\n",
        "                with torch.no_grad():\n",
        "                    for steps in range(self.max_steps):\n",
        "                        postfix['steps'] = f'{steps + 1}/{self.max_steps}'\n",
        "\n",
        "                        if steps % wind_step_interval == 0:\n",
        "                            self.model.wind_towards_direction = torch.tensor(\n",
        "                                ds['wind_towards_direction'][steps // wind_step_interval], device=device)\n",
        "                            self.model.wind_velocity = torch.tensor(ds['wind_velocity'][steps // wind_step_interval],\n",
        "                                                                    device=device)\n",
        "\n",
        "                        self.model.compute()\n",
        "                        outputs = self.model.state[0] | self.model.state[1]\n",
        "\n",
        "                        postfix['burning'] = self.model.state[0].sum().detach().cpu().item()\n",
        "                        postfix['burned'] = self.model.state[1].sum().detach().cpu().item()\n",
        "\n",
        "                        output_list.append(outputs.cpu().detach().numpy())\n",
        "\n",
        "                        progress_bar.set_postfix(postfix)\n",
        "                        progress_bar.update(1)\n",
        "\n",
        "        return output_list"
      ]
    },
    {
      "cell_type": "code",
      "execution_count": null,
      "metadata": {
        "id": "8LhZXJdnw__M"
      },
      "outputs": [],
      "source": [
        "# define trainer\n",
        "\n",
        "from pytorchfire import WildfireModel, BaseTrainer\n",
        "from tqdm import tqdm\n",
        "import torch\n",
        "\n",
        "device = 'cuda' if torch.cuda.is_available() else 'cpu'\n",
        "\n",
        "print(f\"Using device: {device}\")\n",
        "\n",
        "trainer = DemoTrainer(model=WildfireModel({\n",
        "            'p_veg': torch.tensor(ds['p_veg']),\n",
        "            'p_den': torch.tensor(ds['p_den']),\n",
        "            'wind_towards_direction': torch.tensor(ds['wind_towards_direction'][0]),\n",
        "            'wind_velocity': torch.tensor(ds['wind_velocity'][0]),\n",
        "            'slope': torch.tensor(ds['slope']),\n",
        "            'initial_ignition': torch.tensor(ds['initial_ignition'], dtype=torch.bool)\n",
        "        }, {\n",
        "            'a': torch.tensor(.0),\n",
        "            'p_h': torch.tensor(.15),\n",
        "            'p_continue': torch.tensor(ds['p_continue']),\n",
        "            'c_1': torch.tensor(.0),\n",
        "            'c_2': torch.tensor(.0),\n",
        "        }), device=torch.device(device))\n",
        "\n",
        "trainer.max_epochs = 5\n",
        "trainer.steps_update_interval = 10\n",
        "trainer.max_steps = int(ds['max_steps'])\n",
        "trainer.lr = 0.005\n",
        "trainer.seed = None\n"
      ]
    },
    {
      "cell_type": "code",
      "source": [
        "# Visualize the simulation (before calibration)\n",
        "\n",
        "import numpy as np\n",
        "import matplotlib.pyplot as plt\n",
        "from matplotlib.animation import FuncAnimation\n",
        "from IPython.display import HTML\n",
        "\n",
        "# generate calibrated simulation\n",
        "after_calibration = np.array(trainer.evaluate(ds))\n",
        "ground_truth = ds['target']\n",
        "\n",
        "combined = np.concatenate((np.array(after_calibration), ground_truth), axis=2)\n",
        "\n",
        "fig, ax = plt.subplots()\n",
        "\n",
        "im = ax.imshow(combined[0])\n",
        "ax.set_title('Left: Uncalibrated, Right: Target')\n",
        "\n",
        "def update(frame):\n",
        "    im.set_array(combined[frame])\n",
        "    return [im]\n",
        "\n",
        "ani = FuncAnimation(\n",
        "    fig, update, frames=len(combined), interval=100, blit=True\n",
        ")\n",
        "\n",
        "ani.save('calibration_before.gif', fps=10)\n",
        "HTML(ani.to_jshtml())"
      ],
      "metadata": {
        "id": "UNcuNacIzPU_"
      },
      "execution_count": null,
      "outputs": []
    },
    {
      "cell_type": "markdown",
      "source": [
        "![Animation](https://github.com/xiazeyu/PyTorchFire/blob/jupyter-examples/examples/calibration_before.gif?raw=1)"
      ],
      "metadata": {
        "id": "fq3HUqN9zT3V"
      }
    },
    {
      "cell_type": "code",
      "source": [
        "# perform parameter calibration\n",
        "trainer.train(ds=ds)"
      ],
      "metadata": {
        "id": "PTWeFCQRzhsP"
      },
      "execution_count": null,
      "outputs": []
    },
    {
      "cell_type": "code",
      "execution_count": null,
      "metadata": {
        "id": "E70zzFOSw__M"
      },
      "outputs": [],
      "source": [
        "# Visualize the simulation\n",
        "\n",
        "import numpy as np\n",
        "import matplotlib.pyplot as plt\n",
        "from matplotlib.animation import FuncAnimation\n",
        "from IPython.display import HTML\n",
        "\n",
        "# generate calibrated simulation\n",
        "after_calibration = np.array(trainer.evaluate(ds))\n",
        "ground_truth = ds['target']\n",
        "\n",
        "combined = np.concatenate((np.array(after_calibration), ground_truth), axis=2)\n",
        "\n",
        "fig, ax = plt.subplots()\n",
        "\n",
        "im = ax.imshow(combined[0])\n",
        "ax.set_title('Left: Calibrated, Right: Target')\n",
        "\n",
        "def update(frame):\n",
        "    im.set_array(combined[frame])\n",
        "    return [im]\n",
        "\n",
        "ani = FuncAnimation(\n",
        "    fig, update, frames=len(combined), interval=100, blit=True\n",
        ")\n",
        "\n",
        "ani.save('calibration_after.gif', fps=10)\n",
        "HTML(ani.to_jshtml())"
      ]
    },
    {
      "cell_type": "markdown",
      "metadata": {
        "id": "ZIcZvvK9w__N"
      },
      "source": [
        "![Animation](https://github.com/xiazeyu/PyTorchFire/blob/jupyter-examples/examples/calibration_after.gif?raw=1)"
      ]
    },
    {
      "cell_type": "markdown",
      "metadata": {
        "id": "doKhthpww__N"
      },
      "source": []
    }
  ],
  "metadata": {
    "kernelspec": {
      "display_name": "Python 3",
      "name": "python3"
    },
    "language_info": {
      "codemirror_mode": {
        "name": "ipython",
        "version": 3
      },
      "file_extension": ".py",
      "mimetype": "text/x-python",
      "name": "python",
      "nbconvert_exporter": "python",
      "pygments_lexer": "ipython3",
      "version": "3.12.8"
    },
    "colab": {
      "provenance": [],
      "gpuType": "A100",
      "include_colab_link": true
    },
    "accelerator": "GPU"
  },
  "nbformat": 4,
  "nbformat_minor": 0
}