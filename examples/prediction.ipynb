{
  "cells": [
    {
      "cell_type": "markdown",
      "metadata": {
        "colab_type": "text",
        "id": "view-in-github"
      },
      "source": [
        "<a href=\"https://colab.research.google.com/github/xiazeyu/PyTorchFire/blob/custom_upload_data/examples/prediction.ipynb\" target=\"_parent\"><img src=\"https://colab.research.google.com/assets/colab-badge.svg\" alt=\"Open In Colab\"/></a>"
      ]
    },
    {
      "cell_type": "code",
      "execution_count": null,
      "metadata": {
        "colab": {
          "base_uri": "https://localhost:8080/"
        },
        "id": "dwXPFWvuwQ2X",
        "outputId": "0f6ca50c-5fa0-4f75-823d-f0a34551b1a9"
      },
      "outputs": [],
      "source": [
        "# @title Install pytorchfire and dependencies\n",
        "\n",
        "%pip install 'pytorchfire[examples]'\n",
        "%pip install requests\n",
        "%pip install matplotlib"
      ]
    },
    {
      "cell_type": "code",
      "execution_count": null,
      "metadata": {
        "colab": {
          "base_uri": "https://localhost:8080/"
        },
        "id": "5-Xcjl-6wQ2Z",
        "outputId": "4e2de76c-2e38-46e9-e4f5-cd4d01250852"
      },
      "outputs": [],
      "source": [
        "# @title Download the dataset\n",
        "\n",
        "from google.colab import files\n",
        "import requests\n",
        "\n",
        "# @markdown If you want to upload your own data, set `upload_custom_data` to `True` and make sure to upload all the files listed in `file_list`.\n",
        "# @markdown The format should be either `.npy` or `.npz`.\n",
        "# @markdown If you want to use the demo dataset, set `upload_custom_data` to `False`.\n",
        "upload_custom_data = False # @param {type:\"boolean\"}\n",
        "\n",
        "file_list = [\n",
        "    'initial_ignition',\n",
        "    'p_den',\n",
        "    'p_veg',\n",
        "    'slope',\n",
        "    'target',\n",
        "    'wind_towards_direction',\n",
        "    'wind_velocity',\n",
        "]\n",
        "\n",
        "def download_file(url, filename):\n",
        "    response = requests.get(url, stream=True)\n",
        "    response.raise_for_status()\n",
        "\n",
        "    with open(filename, 'wb') as file:\n",
        "        for chunk in response.iter_content(chunk_size=8192):\n",
        "            file.write(chunk)\n",
        "\n",
        "if upload_custom_data:\n",
        "    uploaded = files.upload()\n",
        "\n",
        "    for fn in uploaded.keys():\n",
        "      print('User uploaded file \"{name}\" with length {length} bytes'.format(\n",
        "          name=fn, length=len(uploaded[fn])))\n",
        "else:\n",
        "    remote_map_name = 'Bear_2020'\n",
        "\n",
        "    for file in file_list:\n",
        "        file_url = f'https://github.com/xiazeyu/PyTorchFire/raw/refs/heads/main/examples/{remote_map_name}/{file}.npz'\n",
        "        filename = f'{file}.npz'\n",
        "        download_file(file_url, filename)\n",
        "\n",
        "        print(f\"File downloaded and saved as {filename}\")\n"
      ]
    },
    {
      "cell_type": "code",
      "execution_count": 6,
      "metadata": {
        "id": "61ayYwnVwQ2Z"
      },
      "outputs": [],
      "source": [
        "# @title Load the dataset\n",
        "import numpy as np\n",
        "import os\n",
        "\n",
        "def load_np_file(file_name):\n",
        "\n",
        "    if os.path.exists(f'{file_name}.npy'):\n",
        "        return np.load(f'{file_name}.npy')\n",
        "    elif os.path.exists(f'{file_name}.npz'):\n",
        "        ds = np.load(f'{file_name}.npz')\n",
        "        if len(ds.files) == 1:\n",
        "            return ds[ds.files[0]]\n",
        "        else:\n",
        "            raise ValueError(f\"Multiple arrays found in {file_name}. Please provide a single array.\")\n",
        "\n",
        "p_veg = load_np_file('p_veg')\n",
        "p_den = load_np_file('p_den')\n",
        "wind_towards_direction = load_np_file('wind_towards_direction')\n",
        "wind_velocity = load_np_file('wind_velocity')\n",
        "slope = load_np_file('slope')\n",
        "initial_ignition = load_np_file('initial_ignition')\n",
        "\n",
        "a = 0.13324953615665436 # @param {type:\"number\"}\n",
        "c_1 = 0.11270108073949814 # @param {type:\"number\"}\n",
        "c_2 = 0.15624772012233734 # @param {type:\"number\"}\n",
        "max_steps = 100 # @param {type:\"integer\"}\n",
        "p_continue = 0.2814338207244873 # @param {type:\"slider\", min:0, max:1, step:0.05}\n",
        "p_h = 0.3236876130104065 # @param {type:\"slider\", min:0, max:1, step:0.05}\n",
        "wind_step_interval = 15 # @param {type:\"integer\"}\n"
      ]
    },
    {
      "cell_type": "code",
      "execution_count": null,
      "metadata": {
        "colab": {
          "base_uri": "https://localhost:8080/"
        },
        "id": "qfu0lX9mwQ2Z",
        "outputId": "73205da9-42a0-4cb9-9657-ba41d04e7708"
      },
      "outputs": [],
      "source": [
        "# @title Run the simulation\n",
        "\n",
        "from pytorchfire import WildfireModel\n",
        "from tqdm import tqdm\n",
        "import torch\n",
        "\n",
        "device = 'cuda' if torch.cuda.is_available() else 'cpu'\n",
        "\n",
        "print(f\"Using device: {device}\")\n",
        "\n",
        "model = WildfireModel({\n",
        "        'p_veg': torch.tensor(p_veg),\n",
        "        'p_den': torch.tensor(p_den),\n",
        "        'wind_towards_direction': torch.tensor(wind_towards_direction[0]),\n",
        "        'wind_velocity': torch.tensor(wind_velocity[0]),\n",
        "        'slope': torch.tensor(slope),\n",
        "        'initial_ignition': torch.tensor(initial_ignition, dtype=torch.bool)\n",
        "    }, {\n",
        "        'a': torch.tensor(a),\n",
        "        'p_h': torch.tensor(p_h),\n",
        "        'p_continue': torch.tensor(p_continue),\n",
        "        'c_1': torch.tensor(c_1),\n",
        "        'c_2': torch.tensor(c_2),\n",
        "    })\n",
        "\n",
        "model.to(device)\n",
        "model.eval()\n",
        "\n",
        "affected_cell_count_outputs = []\n",
        "affected_cell_count_targets = []\n",
        "\n",
        "postfix = {}\n",
        "output_list = []\n",
        "\n",
        "with tqdm(total=max_steps) as progress_bar:\n",
        "        with torch.no_grad():\n",
        "            for steps in range(max_steps):\n",
        "                postfix['steps'] = f'{steps + 1}/{max_steps}'\n",
        "\n",
        "                if steps % wind_step_interval == 0:\n",
        "                    model.wind_towards_direction = torch.tensor(\n",
        "                        wind_towards_direction[steps // wind_step_interval], device=device)\n",
        "                    model.wind_velocity = torch.tensor(wind_velocity[steps // wind_step_interval],\n",
        "                                                            device=device)\n",
        "\n",
        "                model.compute()\n",
        "                outputs = model.state[0] | model.state[1]\n",
        "\n",
        "                postfix['burning'] = model.state[0].sum().detach().cpu().item()\n",
        "                postfix['burned'] = model.state[1].sum().detach().cpu().item()\n",
        "\n",
        "                output_list.append(outputs.cpu().detach().numpy())\n",
        "\n",
        "                progress_bar.set_postfix(postfix)\n",
        "                progress_bar.update(1)\n"
      ]
    },
    {
      "cell_type": "code",
      "execution_count": null,
      "metadata": {
        "colab": {
          "base_uri": "https://localhost:8080/",
          "height": 996
        },
        "id": "l_isKxXPwQ2Z",
        "outputId": "eb329e48-ae69-4917-e3b2-323be701a11e"
      },
      "outputs": [],
      "source": [
        "# @title Visualize the simulation\n",
        "\n",
        "import numpy as np\n",
        "import matplotlib.pyplot as plt\n",
        "from matplotlib.animation import FuncAnimation\n",
        "from IPython.display import HTML\n",
        "\n",
        "fig, ax = plt.subplots()\n",
        "\n",
        "im = ax.imshow(output_list[0])\n",
        "\n",
        "def update(frame):\n",
        "    im.set_array(output_list[frame])\n",
        "    return [im]\n",
        "\n",
        "ani = FuncAnimation(\n",
        "    fig, update, frames=len(output_list), interval=100, blit=True\n",
        ")\n",
        "\n",
        "ani.save('prediction.gif', fps=10)\n",
        "HTML(ani.to_jshtml())"
      ]
    },
    {
      "cell_type": "markdown",
      "metadata": {
        "id": "AAUCc5AqwQ2Z"
      },
      "source": [
        "![Animation](https://github.com/xiazeyu/PyTorchFire/blob/jupyter-examples/examples/prediction.gif?raw=1)"
      ]
    },
    {
      "cell_type": "markdown",
      "metadata": {
        "id": "ZdvcrUH7wQ2a"
      },
      "source": []
    }
  ],
  "metadata": {
    "accelerator": "GPU",
    "colab": {
      "gpuType": "A100",
      "include_colab_link": true,
      "provenance": []
    },
    "kernelspec": {
      "display_name": "pytorchfire",
      "language": "python",
      "name": "python3"
    },
    "language_info": {
      "codemirror_mode": {
        "name": "ipython",
        "version": 3
      },
      "file_extension": ".py",
      "mimetype": "text/x-python",
      "name": "python",
      "nbconvert_exporter": "python",
      "pygments_lexer": "ipython3",
      "version": "3.12.8"
    }
  },
  "nbformat": 4,
  "nbformat_minor": 0
}
