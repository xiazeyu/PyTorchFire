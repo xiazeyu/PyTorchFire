{
  "cells": [
    {
      "cell_type": "markdown",
      "metadata": {
        "id": "view-in-github",
        "colab_type": "text"
      },
      "source": [
        "<a href=\"https://colab.research.google.com/github/xiazeyu/PyTorchFire/blob/jupyter-examples/examples/prediction.ipynb\" target=\"_parent\"><img src=\"https://colab.research.google.com/assets/colab-badge.svg\" alt=\"Open In Colab\"/></a>"
      ]
    },
    {
      "cell_type": "code",
      "execution_count": null,
      "metadata": {
        "id": "dwXPFWvuwQ2X"
      },
      "outputs": [],
      "source": [
        "# install pytorchfire and dependencies\n",
        "\n",
        "%pip install 'pytorchfire[examples]'\n",
        "%pip install requests\n",
        "%pip install matplotlib"
      ]
    },
    {
      "cell_type": "code",
      "execution_count": null,
      "metadata": {
        "id": "5-Xcjl-6wQ2Z"
      },
      "outputs": [],
      "source": [
        "# download the dataset\n",
        "\n",
        "map_name = 'Bear_2020'\n",
        "\n",
        "import requests\n",
        "\n",
        "def download_file(url, filename):\n",
        "    response = requests.get(url, stream=True)\n",
        "    response.raise_for_status()\n",
        "\n",
        "    with open(filename, 'wb') as file:\n",
        "        for chunk in response.iter_content(chunk_size=8192):\n",
        "            file.write(chunk)\n",
        "\n",
        "file_url = f'https://github.com/xiazeyu/PyTorchFire/raw/refs/heads/jupyter-examples/examples/{map_name}.npz'\n",
        "filename = f'{map_name}.npz'\n",
        "download_file(file_url, filename)\n",
        "\n",
        "print(f\"Dataset downloaded and saved as {filename}\")\n"
      ]
    },
    {
      "cell_type": "code",
      "execution_count": null,
      "metadata": {
        "id": "61ayYwnVwQ2Z"
      },
      "outputs": [],
      "source": [
        "# load the dataset\n",
        "import numpy as np\n",
        "\n",
        "ds = np.load('Bear_2020.npz')\n",
        "\n",
        "print('Dataset keys:', ds.files)\n",
        "\n",
        "p_veg = ds['p_veg']\n",
        "p_den = ds['p_den']\n",
        "wind_towards_direction = ds['wind_towards_direction']\n",
        "wind_velocity = ds['wind_velocity']\n",
        "slope = ds['slope']\n",
        "initial_ignition = ds['initial_ignition']\n",
        "\n",
        "a = ds['a']\n",
        "p_h = ds['p_h']\n",
        "p_continue = ds['p_continue']\n",
        "c_1 = ds['c_1']\n",
        "c_2 = ds['c_2']\n",
        "\n",
        "wind_step_interval = ds['wind_step_interval']\n",
        "max_steps = ds['max_steps']"
      ]
    },
    {
      "cell_type": "code",
      "execution_count": null,
      "metadata": {
        "id": "qfu0lX9mwQ2Z"
      },
      "outputs": [],
      "source": [
        "# run the simulation\n",
        "\n",
        "from pytorchfire import WildfireModel\n",
        "from tqdm import tqdm\n",
        "import torch\n",
        "\n",
        "device = 'cuda' if torch.cuda.is_available() else 'cpu'\n",
        "\n",
        "print(f\"Using device: {device}\")\n",
        "\n",
        "model = WildfireModel({\n",
        "        'p_veg': torch.tensor(p_veg),\n",
        "        'p_den': torch.tensor(p_den),\n",
        "        'wind_towards_direction': torch.tensor(wind_towards_direction[0]),\n",
        "        'wind_velocity': torch.tensor(wind_velocity[0]),\n",
        "        'slope': torch.tensor(slope),\n",
        "        'initial_ignition': torch.tensor(initial_ignition, dtype=torch.bool)\n",
        "    }, {\n",
        "        'a': torch.tensor(a),\n",
        "        'p_h': torch.tensor(p_h),\n",
        "        'p_continue': torch.tensor(p_continue),\n",
        "        'c_1': torch.tensor(c_1),\n",
        "        'c_2': torch.tensor(c_2),\n",
        "    })\n",
        "\n",
        "model.to(device)\n",
        "model.eval()\n",
        "\n",
        "affected_cell_count_outputs = []\n",
        "affected_cell_count_targets = []\n",
        "\n",
        "postfix = {}\n",
        "output_list = []\n",
        "\n",
        "with tqdm(total=max_steps) as progress_bar:\n",
        "        with torch.no_grad():\n",
        "            for steps in range(max_steps):\n",
        "                postfix['steps'] = f'{steps + 1}/{max_steps}'\n",
        "\n",
        "                if steps % wind_step_interval == 0:\n",
        "                    model.wind_towards_direction = torch.tensor(\n",
        "                        wind_towards_direction[steps // wind_step_interval], device=device)\n",
        "                    model.wind_velocity = torch.tensor(wind_velocity[steps // wind_step_interval],\n",
        "                                                            device=device)\n",
        "\n",
        "                model.compute()\n",
        "                outputs = model.state[0] | model.state[1]\n",
        "\n",
        "                postfix['burning'] = model.state[0].sum().detach().cpu().item()\n",
        "                postfix['burned'] = model.state[1].sum().detach().cpu().item()\n",
        "\n",
        "                output_list.append(outputs.cpu().detach().numpy())\n",
        "\n",
        "                progress_bar.set_postfix(postfix)\n",
        "                progress_bar.update(1)\n"
      ]
    },
    {
      "cell_type": "code",
      "execution_count": null,
      "metadata": {
        "id": "l_isKxXPwQ2Z"
      },
      "outputs": [],
      "source": [
        "# Visualize the simulation\n",
        "\n",
        "import numpy as np\n",
        "import matplotlib.pyplot as plt\n",
        "from matplotlib.animation import FuncAnimation\n",
        "from IPython.display import HTML\n",
        "\n",
        "fig, ax = plt.subplots()\n",
        "\n",
        "im = ax.imshow(output_list[0])\n",
        "\n",
        "def update(frame):\n",
        "    im.set_array(output_list[frame])\n",
        "    return [im]\n",
        "\n",
        "ani = FuncAnimation(\n",
        "    fig, update, frames=len(output_list), interval=100, blit=True\n",
        ")\n",
        "\n",
        "ani.save('prediction.gif', fps=10)\n",
        "HTML(ani.to_jshtml())"
      ]
    },
    {
      "cell_type": "markdown",
      "metadata": {
        "id": "AAUCc5AqwQ2Z"
      },
      "source": [
        "![Animation](https://github.com/xiazeyu/PyTorchFire/blob/jupyter-examples/examples/prediction.gif?raw=1)"
      ]
    },
    {
      "cell_type": "markdown",
      "metadata": {
        "id": "ZdvcrUH7wQ2a"
      },
      "source": []
    }
  ],
  "metadata": {
    "kernelspec": {
      "display_name": "Python 3",
      "name": "python3"
    },
    "language_info": {
      "codemirror_mode": {
        "name": "ipython",
        "version": 3
      },
      "file_extension": ".py",
      "mimetype": "text/x-python",
      "name": "python",
      "nbconvert_exporter": "python",
      "pygments_lexer": "ipython3",
      "version": "3.12.8"
    },
    "colab": {
      "provenance": [],
      "gpuType": "T4",
      "include_colab_link": true
    },
    "accelerator": "GPU"
  },
  "nbformat": 4,
  "nbformat_minor": 0
}